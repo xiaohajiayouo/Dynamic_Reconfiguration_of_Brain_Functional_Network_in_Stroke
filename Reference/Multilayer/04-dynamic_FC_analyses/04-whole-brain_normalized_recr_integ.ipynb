{
 "cells": [
  {
   "cell_type": "markdown",
   "metadata": {},
   "source": [
    "# **Working memory training**: Whole-brain normalized recruitment/integration\n",
    "\n",
    "**Last edited:** 12-05-2019"
   ]
  },
  {
   "cell_type": "markdown",
   "metadata": {},
   "source": [
    "Step 0: Loading libraries\n",
    "--------------------------------------------"
   ]
  },
  {
   "cell_type": "code",
   "execution_count": 2,
   "metadata": {},
   "outputs": [],
   "source": [
    "import sys\n",
    "sys.path.append(\"..\")\n",
    "import os\n",
    "\n",
    "%matplotlib inline\n",
    "\n",
    "import scipy.io as sio\n",
    "import numpy as np\n",
    "from nilearn import plotting \n",
    "import pandas as pd\n",
    "import seaborn as sns\n",
    "import matplotlib.pyplot as plt\n",
    "\n",
    "from scipy import stats\n",
    "from fctools import networks, figures\n",
    "\n",
    "#---- matplotlib settings\n",
    "import matplotlib.pyplot as plt\n",
    "plt.style.use('seaborn-white')\n",
    "plt.rcParams['font.family'] = 'Helvetica'"
   ]
  },
  {
   "cell_type": "markdown",
   "metadata": {},
   "source": [
    "Step 1: Selecting subjects to analysis\n",
    "--------------------------------------------"
   ]
  },
  {
   "cell_type": "code",
   "execution_count": 3,
   "metadata": {},
   "outputs": [
    {
     "name": "stdout",
     "output_type": "stream",
     "text": [
      "Number of subject after excluding subjects with higly motion: 42\n"
     ]
    }
   ],
   "source": [
    "top_dir = '/home/finc/Dropbox/Projects/LearningBrain/'\n",
    "\n",
    "# Selecting subjects which finished the study\n",
    "groups = pd.read_csv('../data/behavioral/group_assignment.csv')\n",
    "\n",
    "trained = (groups.group == 'Experimental') | (groups.group == 'Control')\n",
    "trained_subs = groups[trained]\n",
    "subs = trained_subs['sub'].values\n",
    "\n",
    "# Creating vectors to filter by group\n",
    "experimental = (trained_subs == 'Experimental')\n",
    "control = (trained_subs == 'Control')\n",
    "\n",
    "exp_vector = experimental['group'].values\n",
    "con_vector = control['group'].values\n",
    "\n",
    "# Dualnback - selecting subjects included into dinal analysis and creating group assignment vectors\n",
    "dualnback_exclude = ['sub-13', 'sub-21', 'sub-23', 'sub-50'] # higly motion subjects in one of four sessions\n",
    "dual_vector = [True if sub not in dualnback_exclude else False for sub in subs]\n",
    "exp_vector = exp_vector[dual_vector]\n",
    "con_vector = con_vector[dual_vector]\n",
    "subs = trained_subs['sub'][dual_vector].values\n",
    "\n",
    "n = sum(dual_vector)\n",
    "print(f'Number of subject after excluding subjects with higly motion: {n}')"
   ]
  },
  {
   "cell_type": "markdown",
   "metadata": {},
   "source": [
    "Step 2: Getting modules names and color pallete\n",
    "----------------------------------------"
   ]
  },
  {
   "cell_type": "code",
   "execution_count": 3,
   "metadata": {},
   "outputs": [],
   "source": [
    "# Loading Power et al. (2011) labels\n",
    "path_power_labels = '../support/modules.txt'\n",
    "\n",
    "with open(path_power_labels, 'r') as f:\n",
    "    power_labels = f.read()\n",
    "power_labels = power_labels.split('\\n')\n",
    "power_labels.sort()\n",
    "power_labels.remove('')\n",
    "\n",
    "power_unique_networks = sorted(list(set(power_labels))) \n",
    "\n",
    "power_labels_idx = []\n",
    "for label in power_labels:\n",
    "    power_labels_idx.append(power_unique_networks.index(label))\n",
    "    \n",
    "power_labels = np.array(power_labels_idx)\n",
    "\n",
    "\n",
    "# # Loading Schaefer et al (2018) labels\n",
    "# path_schaefer_labels = '../support/schaefer_networks_300.csv'\n",
    "# schaefer_labels = pd.read_csv(path_schaefer_labels, header=None)[0].values\n",
    "# schaefer_labels.sort()\n",
    "# schaefer_unique_networks = sorted(list(set(schaefer_labels))) \n",
    "\n",
    "# schaefer_labels_idx = []\n",
    "# for label in schaefer_labels:\n",
    "#     schaefer_labels_idx.append(schaefer_unique_networks.index(label))\n",
    "\n",
    "# schaefer_labels = np.array(schaefer_labels_idx)"
   ]
  },
  {
   "cell_type": "code",
   "execution_count": 6,
   "metadata": {},
   "outputs": [
    {
     "data": {
      "text/plain": [
       "'../support/modules.txt'"
      ]
     },
     "execution_count": 6,
     "metadata": {},
     "output_type": "execute_result"
    }
   ],
   "source": [
    "power_unique_networks \n",
    "path_power_labels"
   ]
  },
  {
   "cell_type": "markdown",
   "metadata": {},
   "source": [
    "Step 3: Calculating mean normalized network rectuitment/integration\n",
    "----------------------------------------"
   ]
  },
  {
   "cell_type": "markdown",
   "metadata": {},
   "source": [
    "### Normalization function"
   ]
  },
  {
   "cell_type": "code",
   "execution_count": 10,
   "metadata": {},
   "outputs": [],
   "source": [
    "def normalize_networks_mean(matrix, labels, n_iter):\n",
    "    '''Normalizing recruitment and integration values using permutation approach\n",
    "    Null module allegiance matrices were created by randomly permuting the correspondence \n",
    "    between regions of interest (ROIs) and large-scale systems.\n",
    "    We then calculated the functional cartography measures for all permuted matrices.  \n",
    "    To obtain normalized values of recruitment and integration, \n",
    "    we divided them by the mean of the corresponding null distribution.\n",
    "    This procedure yielded null distributions of recruitment \n",
    "    and integration coefficients resulting solely from the size of each system.\n",
    "    \n",
    "    Args:\n",
    "        matrix: (N x N)\n",
    "        labels: (N, )\n",
    "        n_iter: int\n",
    "    '''\n",
    "\n",
    "    n_networks = len(np.unique(labels))\n",
    "\n",
    "    def calculate_networks_mean(matrix, labels, n_networks):\n",
    "        '''... '''\n",
    "        nam = np.zeros((n_networks, n_networks))\n",
    "\n",
    "        for i in range(n_networks):\n",
    "            for j in range(n_networks):\n",
    "                nam[i, j] = np.mean(matrix[np.nonzero(labels == i)][:, np.nonzero(labels == j)])\n",
    "\n",
    "        return nam\n",
    "\n",
    "    nam = calculate_networks_mean(matrix, labels, n_networks)\n",
    "    nam_null = np.zeros((n_networks, n_networks))\n",
    "    labels_null = labels.copy()\n",
    "\n",
    "    for _ in range(n_iter):\n",
    "        np.random.shuffle(labels_null)\n",
    "        nam_null += calculate_networks_mean(matrix, labels_null, n_networks)\n",
    "\n",
    "    nam_null /= n_iter    \n",
    "\n",
    "    return np.divide(nam, nam_null)"
   ]
  },
  {
   "cell_type": "markdown",
   "metadata": {},
   "source": [
    "### Loading allegiance matrices"
   ]
  },
  {
   "cell_type": "code",
   "execution_count": 10,
   "metadata": {},
   "outputs": [
    {
     "data": {
      "text/plain": [
       "(46, 4, 264, 264)"
      ]
     },
     "execution_count": 10,
     "metadata": {},
     "output_type": "execute_result"
    }
   ],
   "source": [
    "parcellation = 'power'\n",
    "\n",
    "P = np.load(f'{top_dir}data/neuroimaging/03-modularity/dynamic/03-allegiance_matrices/allegiance_matrix_{parcellation}_dualnback_opt_mean.npy')\n",
    "P.shape"
   ]
  },
  {
   "cell_type": "markdown",
   "metadata": {},
   "source": [
    "### Calculating mean normalized recruitment/integration"
   ]
  },
  {
   "cell_type": "code",
   "execution_count": 18,
   "metadata": {},
   "outputs": [
    {
     "name": "stdout",
     "output_type": "stream",
     "text": [
      "sub-01\n",
      "sub-02\n",
      "sub-04\n",
      "sub-05\n",
      "sub-06\n",
      "sub-07\n",
      "sub-08\n",
      "sub-10\n",
      "sub-11\n",
      "sub-12\n",
      "sub-13\n",
      "sub-14\n",
      "sub-15\n",
      "sub-16\n",
      "sub-18\n",
      "sub-19\n",
      "sub-20\n",
      "sub-21\n",
      "sub-23\n",
      "sub-24\n",
      "sub-25\n",
      "sub-26\n",
      "sub-27\n",
      "sub-28\n",
      "sub-29\n",
      "sub-30\n",
      "sub-33\n",
      "sub-35\n",
      "sub-36\n",
      "sub-37\n",
      "sub-39\n",
      "sub-41\n",
      "sub-42\n",
      "sub-43\n",
      "sub-44\n",
      "sub-45\n",
      "sub-46\n",
      "sub-47\n",
      "sub-48\n",
      "sub-50\n",
      "sub-51\n",
      "sub-52\n",
      "sub-53\n",
      "sub-54\n",
      "sub-55\n",
      "sub-56\n"
     ]
    }
   ],
   "source": [
    "# Calculate mean normalized allegiance\n",
    "n_net = len(eval(f'{parcellation}_unique_networks'))\n",
    "\n",
    "norm_mean_allegiance = np.zeros((P.shape[0], n_net, n_net))\n",
    "\n",
    "for i in range(P.shape[0]):\n",
    "    print(trained_subs['sub'].values[i])\n",
    "    for j in range(P.shape[1]):\n",
    "        norm_mean_allegiance[i, j] = normalize_networks_mean(P[i, j], eval(f'{parcellation}_labels'), 1000)\n",
    "\n",
    "np.save(f'{top_dir}data/neuroimaging/03-modularity/dynamic/04-recruitment_integration/whole-brain_{parcellation}_normalized_mean_allegiance.npy', norm_mean_allegiance)"
   ]
  },
  {
   "cell_type": "markdown",
   "metadata": {},
   "source": [
    "### Save results as tidy dataframe"
   ]
  },
  {
   "cell_type": "code",
   "execution_count": 19,
   "metadata": {},
   "outputs": [],
   "source": [
    "# Create tidy data frame from mean allegiance values\n",
    "filename = f'whole-brain_{parcellation}_normalized'\n",
    "norm_mean_allegiance = np.load(f'{top_dir}data/neuroimaging/03-modularity/dynamic/04-recruitment_integration/{filename}_mean_allegiance.npy')\n",
    "\n",
    "sessions = ['Naive', 'Early', 'Middle', 'Late']\n",
    "normalized_measures = pd.DataFrame()\n",
    "recruitment = pd.DataFrame()\n",
    "\n",
    "for i, sub in enumerate(trained_subs['sub'].values):\n",
    "    for j, ses in enumerate(sessions):\n",
    "        for k, net1 in enumerate(eval(f'{parcellation}_unique_networks')): \n",
    "            \n",
    "            networks_allegiance = pd.DataFrame()\n",
    "            \n",
    "            for l, net2 in enumerate(eval(f'{parcellation}_unique_networks')):\n",
    "                \n",
    "                norm_net_allegiance = norm_mean_allegiance[i,j,k,l]\n",
    "                pre = pd.DataFrame([[sub, ses, trained_subs['group'].values[i], net1, norm_net_allegiance]], \n",
    "                                   columns=['Subject', 'Session', 'Group', 'Network', f'{net2}']) \n",
    "                \n",
    "                if net1 == net2:\n",
    "                    recruitment = pd.concat((recruitment, pd.DataFrame([[sub, \n",
    "                                                                         ses, \n",
    "                                                                         trained_subs['group'].values[i], \n",
    "                                                                         net1, \n",
    "                                                                         norm_net_allegiance]], \n",
    "                                   columns=['Subject', 'Session', 'Group', 'Network', 'Recruitment']))) \n",
    "                if l == 0:\n",
    "                    networks_allegiance = pre\n",
    "                if l > 0:\n",
    "                    networks_allegiance = pd.merge(networks_allegiance, pre, on = ['Subject', 'Session', 'Group', 'Network'])\n",
    "            \n",
    "            normalized_measures = pd.concat((normalized_measures, networks_allegiance), axis=0)\n",
    "\n",
    "normalized_measures.to_csv(f'{top_dir}data/neuroimaging/03-modularity/dynamic/04-recruitment_integration/{filename}_mean_allegiance_tidy.csv', \n",
    "                           index=False)\n",
    "recruitment.to_csv(f'{top_dir}data/neuroimaging/03-modularity/dynamic/04-recruitment_integration/{filename}_recruitment_tidy.csv', \n",
    "                   index=False)"
   ]
  },
  {
   "cell_type": "markdown",
   "metadata": {},
   "source": [
    "-------------------------------------"
   ]
  },
  {
   "cell_type": "markdown",
   "metadata": {},
   "source": [
    "### Exploration plots"
   ]
  },
  {
   "cell_type": "code",
   "execution_count": 129,
   "metadata": {},
   "outputs": [
    {
     "data": {
      "image/png": "[encoded data removed]",
      "text/plain": [
       "<Figure size 1584x720 with 8 Axes>"
      ]
     },
     "metadata": {
      "needs_background": "light"
     },
     "output_type": "display_data"
    }
   ],
   "source": [
    "fig, ax = plt.subplots(2, 4)\n",
    "fig.set_size_inches(22, 10)\n",
    "\n",
    "group_vectors = [exp_vector, con_vector]\n",
    "sessions = ['Naive', 'Early', 'Middle', 'Late']\n",
    "group_lab = ['Experimental', 'Control']\n",
    "norm_mean_allegiance_clean = norm_mean_allegiance[dual_vector]\n",
    "\n",
    "for g, group in enumerate(group_vectors):\n",
    "    for s, ses in enumerate(sessions):\n",
    "        m_na = norm_mean_allegiance_clean[group, s, :, :].mean(axis=0)\n",
    "        #ax[ses].imshow(m_na)\n",
    "        sns.heatmap(m_na, yticklabels = power_unique_networks, \n",
    "                          xticklabels = power_unique_networks, \n",
    "                          square = True, \n",
    "                          cmap = \"RdBu_r\", \n",
    "                          ax=ax[g][s],\n",
    "                          cbar=None, \n",
    "                          vmin = 0.6, vmax = 1.5)"
   ]
  }
 ],
 "metadata": {
  "kernelspec": {
   "display_name": "Python 3",
   "language": "python",
   "name": "python3"
  },
  "language_info": {
   "codemirror_mode": {
    "name": "ipython",
    "version": 3
   },
   "file_extension": ".py",
   "mimetype": "text/x-python",
   "name": "python",
   "nbconvert_exporter": "python",
   "pygments_lexer": "ipython3",
   "version": "3.7.4"
  }
 },
 "nbformat": 4,
 "nbformat_minor": 4
}
