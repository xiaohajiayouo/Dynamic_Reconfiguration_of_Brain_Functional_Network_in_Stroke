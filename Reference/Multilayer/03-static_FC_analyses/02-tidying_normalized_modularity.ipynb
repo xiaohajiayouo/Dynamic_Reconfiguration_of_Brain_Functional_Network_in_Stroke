{
 "cells": [
  {
   "cell_type": "markdown",
   "metadata": {},
   "source": [
    "# **Working memory training**: Preparation of normalized modularity\n",
    "\n",
    "Turning MATLAB array into tidy .csv table for further statistical analyses.\n",
    "\n",
    "**Last edited:** 06-01-2018"
   ]
  },
  {
   "cell_type": "markdown",
   "metadata": {},
   "source": [
    "Step 0: Loading libraries\n",
    "-----------------------"
   ]
  },
  {
   "cell_type": "code",
   "execution_count": 4,
   "metadata": {},
   "outputs": [],
   "source": [
    "import numpy as np\n",
    "import pandas as pd"
   ]
  },
  {
   "cell_type": "markdown",
   "metadata": {},
   "source": [
    "Step 1: Preparing data\n",
    "-----------------------"
   ]
  },
  {
   "cell_type": "code",
   "execution_count": 6,
   "metadata": {},
   "outputs": [],
   "source": [
    "# Selecting subjects which finished the study\n",
    "groups = pd.read_csv('../data/behavioral/group_assignment.csv')\n",
    "\n",
    "trained = (groups.group == 'Experimental') | (groups.group == 'Control')\n",
    "trained_subs = groups[trained].reset_index()\n",
    "subs = trained_subs['sub'].values\n",
    "\n",
    "# Creating vectors to filter by group\n",
    "experimental = (trained_subs == 'Experimental')\n",
    "control = (trained_subs == 'Control')\n",
    "exp_vector = experimental['group'].values\n",
    "con_vector = control['group'].values\n",
    "\n",
    "# Loading normalized modularity values\n",
    "mat = scipy.io.loadmat('mean_power_normalized_modularity.mat')\n",
    "Q = mat['q_norm']"
   ]
  },
  {
   "cell_type": "markdown",
   "metadata": {},
   "source": [
    "Step 2: Creating tidy dataframe\n",
    "-----------------------"
   ]
  },
  {
   "cell_type": "code",
   "execution_count": 9,
   "metadata": {},
   "outputs": [],
   "source": [
    "sess = ['Naive', 'Early', 'Middle', 'Late']\n",
    "cond = ['Rest', '1-back', '2-back']\n",
    "g = trained_subs['group'].values\n",
    "\n",
    "Q_results = pd.DataFrame()#pd.DataFrame(columns=['sub', 'group', 'ses', 'cond', 'Q'])\n",
    "for i, sub in enumerate(subs):\n",
    "    for j, ses in enumerate(sess):\n",
    "        for k, con in enumerate(cond):\n",
    "            val = Q[i, j, k]\n",
    "            result = pd.DataFrame({'Subject': sub, \n",
    "                                   'Group': trained_subs['group'].values[i], \n",
    "                                   'Session': ses, \n",
    "                                   'Condition': con, \n",
    "                                   'Q_norm': val},\n",
    "                                  index=[0])\n",
    "            Q_results = pd.concat([Q_results, result], axis = 0)\n",
    "\n",
    "Q_results.to_csv('../data/neuroimaging/03-modularity/static/Q_normalized_power_tidy.csv', index=False)\n",
    "Q_results"
   ]
  }
 ],
 "metadata": {
  "kernelspec": {
   "display_name": "Python 3",
   "language": "python",
   "name": "python3"
  },
  "language_info": {
   "codemirror_mode": {
    "name": "ipython",
    "version": 3
   },
   "file_extension": ".py",
   "mimetype": "text/x-python",
   "name": "python",
   "nbconvert_exporter": "python",
   "pygments_lexer": "ipython3",
   "version": "3.7.4"
  }
 },
 "nbformat": 4,
 "nbformat_minor": 4
}
