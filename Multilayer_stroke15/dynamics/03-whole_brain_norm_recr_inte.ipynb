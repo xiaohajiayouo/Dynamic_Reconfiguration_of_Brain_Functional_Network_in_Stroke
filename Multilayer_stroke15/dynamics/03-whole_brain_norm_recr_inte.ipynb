{
 "cells": [
  {
   "cell_type": "code",
   "execution_count": 10,
   "metadata": {},
   "outputs": [],
   "source": [
    "import sys\n",
    "sys.path.append(\"..\")\n",
    "import os\n",
    "\n",
    "%matplotlib inline\n",
    "\n",
    "import scipy.io as sio\n",
    "import numpy as np\n",
    "from nilearn import plotting \n",
    "import pandas as pd\n",
    "import seaborn as sns\n",
    "import matplotlib.pyplot as plt\n",
    "\n",
    "from scipy import stats\n",
    "from fctools import networks, figures\n",
    "\n",
    "#---- matplotlib settings\n",
    "import matplotlib.pyplot as plt\n",
    "plt.style.use('seaborn-white')\n",
    "plt.rcParams['font.family'] = 'Helvetica'\n",
    "\n",
    "import scipy.io as scio\n",
    "import os"
   ]
  },
  {
   "cell_type": "code",
   "execution_count": 11,
   "metadata": {},
   "outputs": [],
   "source": [
    "parcellations = np.asarray([['network32', 'Network32', 32,8],\n",
    "                            ['power', 'Power', 264,8], \n",
    "                            ['schaefer', 'Schaefer', 300,8]])\n",
    "\n",
    "out_dir = 'H:\\\\Jupyter\\\\Stroke15\\\\Multilayer_stroke15\\\\Results\\\\02-multilayer'\n",
    "\n",
    "parcellation = 'network32'\n",
    "norm_mean_allegiance = np.load(f'{out_dir}\\\\{parcellation}\\\\whole-brain_network_normalized_mean_allegiance_50.npy')"
   ]
  },
  {
   "cell_type": "code",
   "execution_count": 12,
   "metadata": {},
   "outputs": [
    {
     "data": {
      "text/plain": [
       "(30, 8, 8)"
      ]
     },
     "execution_count": 12,
     "metadata": {},
     "output_type": "execute_result"
    }
   ],
   "source": [
    "# norm_mean_allegiance = np.load('../../dfc_modules_result/whole-brain_network_normalized_mean_allegiance_corrected.npy')\n",
    "norm_mean_allegiance.shape "
   ]
  },
  {
   "cell_type": "code",
   "execution_count": 13,
   "metadata": {},
   "outputs": [],
   "source": [
    "norm_mean_allegiance.shape\n",
    "recru_inte = norm_mean_allegiance.reshape(30,-1)\n",
    "recru_inte_df = pd.DataFrame()\n",
    "group_labels = [\"Mild\",\"Mild\",\"Severe\",\"Severe\",\"Severe\",\"Severe\",\"Mild\",\n",
    "           \"Severe\",\"Severe\",\"Mild\",\"Severe\",\"Severe\",\"Mild\",\"Severe\",\"Mild\"]+[\"Control\"]*15\n",
    "n_net = int(parcellations[0][3]) "
   ]
  },
  {
   "cell_type": "code",
   "execution_count": 14,
   "metadata": {},
   "outputs": [],
   "source": [
    "\n",
    "# group_labels = np.array(['Stroke']*15 +[\"Control\"]*15)\n",
    "for i, sub in enumerate(group_labels):\n",
    "    temp_df = pd.DataFrame()\n",
    "    for l, net2 in enumerate(range(n_net)):\n",
    "        k = l\n",
    "        while k < n_net:\n",
    "            pre = pd.DataFrame([[str(i), group_labels[i], str(l)+str(k), norm_mean_allegiance[i][l][k]]], \n",
    "                                   columns = ['Subject', 'Group', 'Bet_nets', 'Mean_alleg'])\n",
    "            if l == 0 and k == 0:\n",
    "                    temp_df = pre\n",
    "            else:\n",
    "                temp_df = pd.concat((temp_df,pre), axis=0)\n",
    "            k = k+1\n",
    "    recru_inte_df = pd.concat((recru_inte_df, temp_df ), axis=0)"
   ]
  },
  {
   "cell_type": "code",
   "execution_count": 15,
   "metadata": {},
   "outputs": [
    {
     "data": {
      "text/html": [
       "<div>\n",
       "<style scoped>\n",
       "    .dataframe tbody tr th:only-of-type {\n",
       "        vertical-align: middle;\n",
       "    }\n",
       "\n",
       "    .dataframe tbody tr th {\n",
       "        vertical-align: top;\n",
       "    }\n",
       "\n",
       "    .dataframe thead th {\n",
       "        text-align: right;\n",
       "    }\n",
       "</style>\n",
       "<table border=\"1\" class=\"dataframe\">\n",
       "  <thead>\n",
       "    <tr style=\"text-align: right;\">\n",
       "      <th></th>\n",
       "      <th>Subject</th>\n",
       "      <th>Group</th>\n",
       "      <th>Bet_nets</th>\n",
       "      <th>Mean_alleg</th>\n",
       "    </tr>\n",
       "  </thead>\n",
       "  <tbody>\n",
       "    <tr>\n",
       "      <th>0</th>\n",
       "      <td>0</td>\n",
       "      <td>Mild</td>\n",
       "      <td>00</td>\n",
       "      <td>0.949928</td>\n",
       "    </tr>\n",
       "    <tr>\n",
       "      <th>0</th>\n",
       "      <td>0</td>\n",
       "      <td>Mild</td>\n",
       "      <td>01</td>\n",
       "      <td>0.845925</td>\n",
       "    </tr>\n",
       "    <tr>\n",
       "      <th>0</th>\n",
       "      <td>0</td>\n",
       "      <td>Mild</td>\n",
       "      <td>02</td>\n",
       "      <td>1.259319</td>\n",
       "    </tr>\n",
       "    <tr>\n",
       "      <th>0</th>\n",
       "      <td>0</td>\n",
       "      <td>Mild</td>\n",
       "      <td>03</td>\n",
       "      <td>1.000949</td>\n",
       "    </tr>\n",
       "    <tr>\n",
       "      <th>0</th>\n",
       "      <td>0</td>\n",
       "      <td>Mild</td>\n",
       "      <td>04</td>\n",
       "      <td>0.945484</td>\n",
       "    </tr>\n",
       "    <tr>\n",
       "      <th>...</th>\n",
       "      <td>...</td>\n",
       "      <td>...</td>\n",
       "      <td>...</td>\n",
       "      <td>...</td>\n",
       "    </tr>\n",
       "    <tr>\n",
       "      <th>0</th>\n",
       "      <td>29</td>\n",
       "      <td>Control</td>\n",
       "      <td>56</td>\n",
       "      <td>1.729899</td>\n",
       "    </tr>\n",
       "    <tr>\n",
       "      <th>0</th>\n",
       "      <td>29</td>\n",
       "      <td>Control</td>\n",
       "      <td>57</td>\n",
       "      <td>1.568657</td>\n",
       "    </tr>\n",
       "    <tr>\n",
       "      <th>0</th>\n",
       "      <td>29</td>\n",
       "      <td>Control</td>\n",
       "      <td>66</td>\n",
       "      <td>1.338595</td>\n",
       "    </tr>\n",
       "    <tr>\n",
       "      <th>0</th>\n",
       "      <td>29</td>\n",
       "      <td>Control</td>\n",
       "      <td>67</td>\n",
       "      <td>1.271008</td>\n",
       "    </tr>\n",
       "    <tr>\n",
       "      <th>0</th>\n",
       "      <td>29</td>\n",
       "      <td>Control</td>\n",
       "      <td>77</td>\n",
       "      <td>1.286614</td>\n",
       "    </tr>\n",
       "  </tbody>\n",
       "</table>\n",
       "<p>1080 rows × 4 columns</p>\n",
       "</div>"
      ],
      "text/plain": [
       "   Subject    Group Bet_nets  Mean_alleg\n",
       "0        0     Mild       00    0.949928\n",
       "0        0     Mild       01    0.845925\n",
       "0        0     Mild       02    1.259319\n",
       "0        0     Mild       03    1.000949\n",
       "0        0     Mild       04    0.945484\n",
       "..     ...      ...      ...         ...\n",
       "0       29  Control       56    1.729899\n",
       "0       29  Control       57    1.568657\n",
       "0       29  Control       66    1.338595\n",
       "0       29  Control       67    1.271008\n",
       "0       29  Control       77    1.286614\n",
       "\n",
       "[1080 rows x 4 columns]"
      ]
     },
     "execution_count": 15,
     "metadata": {},
     "output_type": "execute_result"
    }
   ],
   "source": [
    "recru_inte_df "
   ]
  },
  {
   "cell_type": "code",
   "execution_count": 9,
   "metadata": {},
   "outputs": [],
   "source": [
    "recru_inte_df.to_csv(f'{out_dir}\\\\{parcellations[0][0]}\\\\network32_between_net_mean_alle_tidy_corrected_tr_50.csv')"
   ]
  }
 ],
 "metadata": {
  "kernelspec": {
   "display_name": "Python 3 (ipykernel)",
   "language": "python",
   "name": "python3"
  },
  "language_info": {
   "codemirror_mode": {
    "name": "ipython",
    "version": 3
   },
   "file_extension": ".py",
   "mimetype": "text/x-python",
   "name": "python",
   "nbconvert_exporter": "python",
   "pygments_lexer": "ipython3",
   "version": "3.11.4"
  },
  "widgets": {
   "application/vnd.jupyter.widget-state+json": {
    "state": {},
    "version_major": 2,
    "version_minor": 0
   }
  }
 },
 "nbformat": 4,
 "nbformat_minor": 4
}
