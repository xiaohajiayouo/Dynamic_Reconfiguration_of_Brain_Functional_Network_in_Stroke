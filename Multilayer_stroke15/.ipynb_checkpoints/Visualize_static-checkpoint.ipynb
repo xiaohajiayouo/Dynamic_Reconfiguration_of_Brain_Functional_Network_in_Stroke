{
 "cells": [
  {
   "cell_type": "code",
   "execution_count": 1,
   "metadata": {},
   "outputs": [
    {
     "name": "stderr",
     "output_type": "stream",
     "text": [
      "D:\\Anaconda3\\lib\\site-packages\\statsmodels\\tools\\_testing.py:19: FutureWarning: pandas.util.testing is deprecated. Use the functions in the public API at pandas.testing instead.\n",
      "  import pandas.util.testing as tm\n"
     ]
    }
   ],
   "source": [
    "import numpy as np\n",
    "import pandas as pd\n",
    "from scipy.io import loadmat\n",
    "import glob\n",
    "import os\n",
    "import sys\n",
    "import matplotlib.pyplot as plt\n",
    "import seaborn as sns\n",
    "sns.set(style=\"white\")\n",
    "\n",
    "from scipy import stats\n",
    "from mne.viz import circular_layout, plot_connectivity_circle\n",
    "import statsmodels.api as sm\n",
    "from statsmodels.formula.api import ols\n",
    "import statsmodels.stats.multicomp\n",
    "import pyreadstat\n",
    "\n",
    "from matplotlib import cm\n",
    "pd.set_option('display.max_columns', 200)\n",
    "pd.set_option('display.max_rows', 200)\n",
    "\n",
    "from mpl_toolkits.axes_grid1.inset_locator import inset_axes\n",
    "from statannot import add_stat_annotation\n",
    "from scipy.stats import ttest_ind\n",
    "import matplotlib.pyplot as plt"
   ]
  },
  {
   "cell_type": "code",
   "execution_count": 3,
   "metadata": {},
   "outputs": [],
   "source": [
    "import scipy.io as scio\n",
    "import os"
   ]
  },
  {
   "cell_type": "code",
   "execution_count": 28,
   "metadata": {},
   "outputs": [],
   "source": [
    "groupid = [\"Stroke\"]*15+[\"Control\"]*15\n",
    "\n",
    "parcellations = np.asarray([['power', 'Power', 264], \n",
    "                            ['schaefer', 'Schaefer', 300]])\n",
    "\n",
    "top_dir = 'H:\\\\Jupyter\\\\Stroke15\\\\Multilayer_stroke15\\\\Results\\\\01-extracted_timeseries'\n",
    "out_dir = 'H:\\Matlab\\Work\\Stroke15\\Mutilayer\\Results'\n",
    "out2_dir = 'H:\\\\Jupyter\\\\Stroke15\\\\Multilayer_stroke15\\\\Results\\\\'\n",
    "n_sub = 30\n",
    "modularity_altas = {}\n",
    "for p in parcellations:\n",
    "    floder = p[1]\n",
    "    altas = p[0]\n",
    "    modularityq_path = out_dir + '\\\\'+ floder+ f'\\mean_{altas}_normalized_modularity.mat'\n",
    "    modularity_q_mat = scio.loadmat(modularityq_path)\n",
    "    q_key = list(modularity_q_mat.keys())[-1]\n",
    "    q_values = modularity_q_mat[q_key]\n",
    "    modularity = {}\n",
    "    modularity['Group'] = list(groupid)\n",
    "    modularity['Modularity'] = list(np.squeeze(q_values))\n",
    "    modularity_df = pd.DataFrame(modularity)\n",
    "    modularity_altas[altas] =modularity_df    "
   ]
  },
  {
   "cell_type": "code",
   "execution_count": 38,
   "metadata": {},
   "outputs": [],
   "source": [
    "# modularity_altas['power']"
   ]
  },
  {
   "cell_type": "code",
   "execution_count": 39,
   "metadata": {},
   "outputs": [
    {
     "name": "stderr",
     "output_type": "stream",
     "text": [
      "D:\\Anaconda3\\lib\\site-packages\\ipykernel_launcher.py:14: FutureWarning: Passing `palette` without assigning `hue` is deprecated.\n",
      "  \n"
     ]
    },
    {
     "data": {
      "image/png": "[encoded data removed]",
      "text/plain": [
       "<Figure size 432x288 with 1 Axes>"
      ]
     },
     "metadata": {},
     "output_type": "display_data"
    }
   ],
   "source": [
    "sns.set_style(\"ticks\")\n",
    "# sns.set_theme(style=\"ticks\", palette=\"pastel\")\n",
    "\n",
    "sns.stripplot(x=\"Group\", y=\"Modularity\", \n",
    "              #color=\"whitesmoke\", \n",
    "              jitter= True,\n",
    "              palette=[\"#2e5d9f\", \"#919649\"],\n",
    "              #palette=\"Set2\",\n",
    "#               split=True,\n",
    "              data = modularity_altas['schaefer'],\n",
    "              size = 10,\n",
    "              edgecolor = 'k',\n",
    "              linewidth = 1.5,\n",
    "              alpha =0.7\n",
    "             )\n",
    "\n",
    "sns.boxplot(x=\"Group\", y=\"Modularity\",\n",
    "#             hue=\"Age\",\n",
    "#             capsize=.1,\n",
    "#             estimator= np.mean,\n",
    "#             ci=\"sd\",\n",
    "#             errcolor=\"k\",\n",
    "            #palette='Set2',\n",
    "            #hue=\"Patient_status\", kind=\"bar\",  \n",
    "            palette=[\"#2e5d9f\", \"#919649\"],\n",
    "#             palette=\"vlag\",\n",
    "#             whis = 1.5, \n",
    "#             width = 2,\n",
    "            data = modularity_altas['schaefer'],\n",
    "            \n",
    "#             ylim=(1.0, 5)\n",
    "           )\n",
    "\n",
    "sns.despine(offset=10, trim=True)\n",
    "\n",
    "\n",
    "plt.savefig('./Results/Visualization/schaefer_static.png', dpi = 300, bbox_inches='tight')"
   ]
  },
  {
   "cell_type": "code",
   "execution_count": null,
   "metadata": {},
   "outputs": [],
   "source": []
  }
 ],
 "metadata": {
  "kernelspec": {
   "display_name": "Python 3",
   "language": "python",
   "name": "python3"
  },
  "language_info": {
   "codemirror_mode": {
    "name": "ipython",
    "version": 3
   },
   "file_extension": ".py",
   "mimetype": "text/x-python",
   "name": "python",
   "nbconvert_exporter": "python",
   "pygments_lexer": "ipython3",
   "version": "3.7.4"
  }
 },
 "nbformat": 4,
 "nbformat_minor": 4
}
