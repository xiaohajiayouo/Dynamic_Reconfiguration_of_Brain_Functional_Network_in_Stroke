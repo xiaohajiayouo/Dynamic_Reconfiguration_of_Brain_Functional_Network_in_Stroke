{
 "cells": [
  {
   "cell_type": "code",
   "execution_count": 2,
   "metadata": {},
   "outputs": [
    {
     "name": "stderr",
     "output_type": "stream",
     "text": [
      "D:\\Anaconda3\\envs\\py38\\lib\\site-packages\\statsmodels\\tools\\_testing.py:19: FutureWarning: pandas.util.testing is deprecated. Use the functions in the public API at pandas.testing instead.\n",
      "  import pandas.util.testing as tm\n"
     ]
    }
   ],
   "source": [
    "import numpy as np\n",
    "import pandas as pd\n",
    "from scipy.io import loadmat\n",
    "import glob\n",
    "import os\n",
    "import sys\n",
    "import matplotlib.pyplot as plt\n",
    "import seaborn as sns\n",
    "sns.set(style=\"white\")\n",
    "\n",
    "from scipy import stats\n",
    "from mne.viz import circular_layout, plot_connectivity_circle\n",
    "import statsmodels.api as sm\n",
    "from statsmodels.formula.api import ols\n",
    "import statsmodels.stats.multicomp\n",
    "import pyreadstat\n",
    "\n",
    "from matplotlib import cm\n",
    "pd.set_option('display.max_columns', 200)\n",
    "pd.set_option('display.max_rows', 200)\n",
    "\n",
    "from mpl_toolkits.axes_grid1.inset_locator import inset_axes\n",
    "from statannot import add_stat_annotation\n",
    "from scipy.stats import ttest_ind\n",
    "import matplotlib.pyplot as plt"
   ]
  },
  {
   "cell_type": "code",
   "execution_count": 2,
   "metadata": {},
   "outputs": [],
   "source": [
    "import scipy.io as scio\n",
    "import os"
   ]
  },
  {
   "cell_type": "code",
   "execution_count": 3,
   "metadata": {},
   "outputs": [],
   "source": [
    "groupid_2 = [\"Stroke\"]*15+[\"Control\"]*15\n",
    "groupid_3 = [\"Mild\",\"Mild\",\"Severe\",\"Severe\",\"Severe\",\"Severe\",\n",
    "           \"Mild\",\"Severe\",\"Severe\",\"Mild\",\"Severe\",\"Severe\",\"Mild\",\"Severe\",\"Mild\"]+[\"Control\"]*15"
   ]
  },
  {
   "cell_type": "code",
   "execution_count": 3,
   "metadata": {},
   "outputs": [],
   "source": [
    "top_dir = 'H:\\\\Jupyter\\\\Stroke15\\\\Multilayer_stroke15\\\\Results\\\\01-extracted_timeseries'\n",
    "out_dir = 'H:\\Matlab\\Work\\Stroke15\\Mutilayer\\Results\\Static'\n",
    "out2_dir = 'H:\\\\Jupyter\\\\Stroke15\\\\Multilayer_stroke15\\\\Results\\\\'"
   ]
  },
  {
   "cell_type": "markdown",
   "metadata": {},
   "source": [
    "# modularity across density "
   ]
  },
  {
   "cell_type": "code",
   "execution_count": 13,
   "metadata": {},
   "outputs": [],
   "source": [
    "# groupid = [\"Stroke\"]*15+[\"Control\"]*15\n",
    "\n",
    "parcellations = np.asarray([\n",
    "                            ['network32', 'Network32', 32],\n",
    "#                             ['power', 'Power', 264], \n",
    "#                             ['schaefer', 'Schaefer', 300],\n",
    "#                             ['aal', 'AAl', 132]\n",
    "                            ])\n",
    "\n",
    "top_dir = 'H:\\\\Jupyter\\\\Stroke15\\\\Multilayer_stroke15\\\\Results\\\\01-extracted_timeseries'\n",
    "out_dir = 'H:\\Matlab\\Work\\Stroke15\\Mutilayer\\Results\\Static'\n",
    "out2_dir = 'H:\\\\Jupyter\\\\Stroke15\\\\Multilayer_stroke15\\\\Results\\\\'\n",
    "n_sub = 30\n",
    "modularity_altas = {}\n",
    "for p in parcellations:\n",
    "    floder = p[1]\n",
    "    altas = p[0]\n",
    "    modularityq_path = out_dir + '\\\\'+ floder+ f'\\{altas}_modularity_across_density.mat'\n",
    "    modularity_q_mat = scio.loadmat(modularityq_path)\n",
    "    q_key = list(modularity_q_mat.keys())[-1]\n",
    "    q_values = modularity_q_mat[q_key]\n",
    "    avg_across_sig_density = np.mean(q_values[:,0:5],axis = 1)\n",
    "\n",
    "    modularity = {}\n",
    "#     modularity['Group_2'] = list(groupid_2)\n",
    "    modularity['Group'] = list(groupid_3)\n",
    "    modularity['Modularity'] = list(np.squeeze(avg_across_sig_density))\n",
    "    modularity_df = pd.DataFrame(modularity)\n",
    "    modularity_altas[altas] = modularity_df   "
   ]
  },
  {
   "cell_type": "code",
   "execution_count": 14,
   "metadata": {},
   "outputs": [
    {
     "data": {
      "text/plain": [
       "{'network32':       Group  Modularity\n",
       " 0      Mild    0.520059\n",
       " 1      Mild    0.422246\n",
       " 2    Severe    0.532700\n",
       " 3    Severe    0.579724\n",
       " 4    Severe    0.554257\n",
       " 5    Severe    0.409779\n",
       " 6      Mild    0.477095\n",
       " 7    Severe    0.575486\n",
       " 8    Severe    0.422333\n",
       " 9      Mild    0.532460\n",
       " 10   Severe    0.496361\n",
       " 11   Severe    0.572241\n",
       " 12     Mild    0.453477\n",
       " 13   Severe    0.455228\n",
       " 14     Mild    0.529051\n",
       " 15  Control    0.529569\n",
       " 16  Control    0.611032\n",
       " 17  Control    0.527070\n",
       " 18  Control    0.623711\n",
       " 19  Control    0.528407\n",
       " 20  Control    0.612670\n",
       " 21  Control    0.647956\n",
       " 22  Control    0.660133\n",
       " 23  Control    0.434665\n",
       " 24  Control    0.604254\n",
       " 25  Control    0.609001\n",
       " 26  Control    0.519552\n",
       " 27  Control    0.518750\n",
       " 28  Control    0.649262\n",
       " 29  Control    0.585589}"
      ]
     },
     "execution_count": 14,
     "metadata": {},
     "output_type": "execute_result"
    }
   ],
   "source": [
    "modularity_altas"
   ]
  },
  {
   "cell_type": "code",
   "execution_count": 23,
   "metadata": {},
   "outputs": [
    {
     "name": "stderr",
     "output_type": "stream",
     "text": [
      "D:\\Anaconda3\\lib\\site-packages\\ipykernel_launcher.py:16: FutureWarning: Passing `palette` without assigning `hue` is deprecated.\n",
      "  app.launch_new_instance()\n"
     ]
    },
    {
     "data": {
      "image/png": "[encoded data removed]",
      "text/plain": [
       "<Figure size 432x288 with 1 Axes>"
      ]
     },
     "metadata": {},
     "output_type": "display_data"
    }
   ],
   "source": [
    "## 3 groups \n",
    "sns.set_style(\"ticks\")\n",
    "# sns.set_theme(style=\"ticks\", palette=\"pastel\")\n",
    "\n",
    "sns.stripplot(x=\"Group\", y=\"Modularity\", \n",
    "              #color=\"whitesmoke\", \n",
    "              jitter= True,\n",
    "#               palette=[\"#2e5d9f\", \"#919649\"],\n",
    "              palette=[\"#2e5d9f\", \"#919649\", '#fc766a'],\n",
    "              #palette=\"Set2\",\n",
    "#               split=True,\n",
    "              data = modularity_altas['network32'],\n",
    "              size = 10,\n",
    "              edgecolor = 'k',\n",
    "              linewidth = 1.5,\n",
    "              alpha =0.7\n",
    "             )\n",
    "\n",
    "ax3 = sns.boxplot(x=\"Group\", y=\"Modularity\",\n",
    "#             hue=\"Age\",\n",
    "#             capsize=.1,\n",
    "#             estimator= np.mean,\n",
    "#             ci=\"sd\",\n",
    "#             errcolor=\"k\",\n",
    "            #palette='Set2',\n",
    "            #hue=\"Patient_status\", kind=\"bar\",  \n",
    "#             palette=[\"#2e5d9f\", \"#919649\"],\n",
    "            palette=[\"#2e5d9f\", \"#919649\", '#fc766a'],\n",
    "#             palette=\"vlag\",\n",
    "#             whis = 1.5, \n",
    "#             width = 2,\n",
    "            data = modularity_altas['network32'],\n",
    "            \n",
    "#             ylim=(1.0, 5)\n",
    "           )\n",
    "\n",
    "sns.despine(offset=10, trim=True)\n",
    "\n",
    "# pairs= [\n",
    "# #     ((\"Mild\"),(\"Severe\")),\\\n",
    "#     ((\"Mild\"),(\"Control\")),\\\n",
    "#     ((\"Severe\"),(\"Control\"))\n",
    "#     ]\n",
    "# test = ttest_ind(permutations=5000)\n",
    "# add_stat_annotation(ax = ax3, box_pairs = pairs, data =  modularity_altas['network32'],\n",
    "#                     test='t-test_ind',\n",
    "# #                     perform_stat_test=False, \n",
    "# #                     pvalues=[4.489e-02],\n",
    "#                     line_offset_to_box = 0.08, line_offset = 0.01, line_height = 0.01, text_offset = 0.08,\n",
    "#                     loc='inside',x= \"Group\", y= \"Modularity\",verbose=2)\n",
    "\n",
    "plt.savefig('./Results/Visualization/network32_denstiy_static_without_atr.png', dpi = 300, bbox_inches='tight')\n",
    "\n",
    "# network 32\n",
    "# Severe v.s. Control: t-test independent samples with Bonferroni correction, P_val=4.917e-02 stat=-2.413e+00\n",
    "# Mild v.s. Control: t-test independent samples with Bonferroni correction, P_val=1.293e-02 stat=-3.058e+00"
   ]
  },
  {
   "cell_type": "code",
   "execution_count": 5,
   "metadata": {},
   "outputs": [],
   "source": [
    "modulariy_across_density = pd.read_excel(out2_dir+'modularity_across_density.xlsx')"
   ]
  },
  {
   "cell_type": "code",
   "execution_count": 1,
   "metadata": {
    "tags": []
   },
   "outputs": [],
   "source": [
    "print(modulariy_across_density)\n",
    "\n",
    "import statsmodels.api as sm\n",
    "from statsmodels.formula.api import ols\n",
    "\n",
    "density = [i for i in np.linspace(0.04,0.2,17)]\n",
    "print(density)\n",
    "\n",
    "\n",
    "for i in density:\n",
    "#     modulariy_across_density.loc[modulariy_across_density['Density'] == 0.04]\n",
    "    model = ols('Modularity ~ C(Group)', data= modulariy_across_density.loc[modulariy_across_density['Density'] == i] ).fit()\n",
    "    anova_table = sm.stats.anova_lm(model, typ=2)\n",
    "    print(f'######### density -->{i}  ########## ')\n",
    "    print(anova_table)\n",
    "\n",
    "\n",
    "# import statsmodels.api as sm\n",
    "# from statsmodels.formula.api import ols\n",
    "# model = ols('Modularity ~ C(Group) + C(Density) + C(Group):C(Density)', data = modulariy_across_density).fit()\n",
    "# anova_table = sm.stats.anova_lm(model, typ=2)\n",
    "# anova_table\n",
    "\n",
    "\n",
    "# \tsum_sq\tdf\tF\tPR(>F)\n",
    "# C(Group)\t0.350757\t2.0\t47.251955\t2.186816e-19\n",
    "# C(Density)\t1.700706\t16.0\t28.638664\t5.991141e-59\n",
    "# C(Group):C(Density)\t0.046324\t32.0\t0.390034\t9.990745e-01\n",
    "# Residual\t1.703607\t459.0\tNaN\tNaN"
   ]
  },
  {
   "cell_type": "markdown",
   "metadata": {},
   "source": [
    "# Modularity verus NIHSS"
   ]
  },
  {
   "cell_type": "code",
   "execution_count": 28,
   "metadata": {},
   "outputs": [
    {
     "name": "stdout",
     "output_type": "stream",
     "text": [
      "[0.52005889 0.42224559 0.53270018 0.57972355 0.55425713 0.40977928\n",
      " 0.47709524 0.5754859  0.42233313 0.53246015 0.49636116 0.57224101\n",
      " 0.45347687 0.45522753 0.52905125 0.52956901 0.61103245 0.52707009\n",
      " 0.62371107 0.52840739 0.61266997 0.64795626 0.66013347 0.4346653\n",
      " 0.6042543  0.60900143 0.51955222 0.51874952 0.64926209 0.58558912]\n",
      "(0.004912213506268137, 0.9861379927242213)\n"
     ]
    }
   ],
   "source": [
    "from scipy import stats\n",
    "\n",
    "static_m =  np.array(modularity_altas['network32']['Modularity'])\n",
    "NIHSS = [4,2,20,8,10,11,2,6,14,2,8,9,4,8,1]\n",
    "print(static_m)\n",
    "r_m_NIHSS = stats.pearsonr(static_m[:15],NIHSS)\n",
    "print(r_m_NIHSS)"
   ]
  },
  {
   "cell_type": "markdown",
   "metadata": {},
   "source": [
    "# Moudlairy via 100 repetition "
   ]
  },
  {
   "cell_type": "code",
   "execution_count": 33,
   "metadata": {},
   "outputs": [],
   "source": [
    "# groupid = [\"Stroke\"]*15+[\"Control\"]*15\n",
    "\n",
    "parcellations = np.asarray([\n",
    "                            ['network32', 'Network32', 32],\n",
    "#                             ['power', 'Power', 264], \n",
    "#                             ['schaefer', 'Schaefer', 300],\n",
    "#                             ['aal', 'AAl', 132]\n",
    "                            ])\n",
    "\n",
    "top_dir = 'H:\\\\Jupyter\\\\Stroke15\\\\Multilayer_stroke15\\\\Results\\\\01-extracted_timeseries'\n",
    "out_dir = 'H:\\Matlab\\Work\\Stroke15\\Mutilayer\\Results'\n",
    "out2_dir = 'H:\\\\Jupyter\\\\Stroke15\\\\Multilayer_stroke15\\\\Results\\\\'\n",
    "n_sub = 30\n",
    "modularity_altas = {}\n",
    "for p in parcellations:\n",
    "    floder = p[1]\n",
    "    altas = p[0]\n",
    "    modularityq_path = out_dir + '\\\\'+ floder+ f'\\{altas}no_smooth_normalized_modularity.mat'\n",
    "    modularity_q_mat = scio.loadmat(modularityq_path)\n",
    "    q_key = list(modularity_q_mat.keys())[-1]\n",
    "    q_values = modularity_q_mat[q_key]\n",
    "#     print(q_values)\n",
    "#     break\n",
    "    modularity = {}\n",
    "#     modularity['Group_2'] = list(groupid_2)\n",
    "    modularity['Group'] = list(groupid_3)\n",
    "    modularity['Modularity'] = list(np.squeeze(q_values))\n",
    "    modularity_df = pd.DataFrame(modularity)\n",
    "    modularity_altas[altas] = modularity_df   "
   ]
  },
  {
   "cell_type": "code",
   "execution_count": 34,
   "metadata": {},
   "outputs": [
    {
     "data": {
      "text/plain": [
       "{'network32':       Group  Modularity\n",
       " 0      Mild    1.565053\n",
       " 1      Mild    1.724448\n",
       " 2    Severe    1.608654\n",
       " 3    Severe    1.773942\n",
       " 4    Severe    1.722696\n",
       " 5    Severe    1.397389\n",
       " 6      Mild    1.710077\n",
       " 7    Severe    1.700543\n",
       " 8    Severe    1.310541\n",
       " 9      Mild    1.790529\n",
       " 10   Severe    1.866256\n",
       " 11   Severe    1.888814\n",
       " 12     Mild    1.495426\n",
       " 13   Severe    1.440039\n",
       " 14     Mild    1.697375\n",
       " 15  Control    1.544286\n",
       " 16  Control    1.867099\n",
       " 17  Control    1.680905\n",
       " 18  Control    1.865286\n",
       " 19  Control    1.701149\n",
       " 20  Control    1.718102\n",
       " 21  Control    2.054592\n",
       " 22  Control    2.102671\n",
       " 23  Control    1.545801\n",
       " 24  Control    1.849490\n",
       " 25  Control    1.738770\n",
       " 26  Control    1.487016\n",
       " 27  Control    1.794248\n",
       " 28  Control    2.062669\n",
       " 29  Control    1.853455}"
      ]
     },
     "execution_count": 34,
     "metadata": {},
     "output_type": "execute_result"
    }
   ],
   "source": [
    "# modularity_altas['power']\n",
    "# modularity_altas\n",
    "modularity_altas"
   ]
  },
  {
   "cell_type": "code",
   "execution_count": 36,
   "metadata": {},
   "outputs": [
    {
     "name": "stderr",
     "output_type": "stream",
     "text": [
      "D:\\Anaconda3\\lib\\site-packages\\ipykernel_launcher.py:16: FutureWarning: Passing `palette` without assigning `hue` is deprecated.\n",
      "  app.launch_new_instance()\n",
      "No handles with labels found to put in legend.\n"
     ]
    },
    {
     "name": "stdout",
     "output_type": "stream",
     "text": [
      "p-value annotation legend:\n",
      "ns: 5.00e-02 < p <= 1.00e+00\n",
      "*: 1.00e-02 < p <= 5.00e-02\n",
      "**: 1.00e-03 < p <= 1.00e-02\n",
      "***: 1.00e-04 < p <= 1.00e-03\n",
      "****: p <= 1.00e-04\n",
      "\n",
      "Stroke v.s. Control: t-test independent samples with Bonferroni correction, P_val=3.776e-04 stat=-4.040e+00\n"
     ]
    },
    {
     "data": {
      "image/png": "[encoded data removed]",
      "text/plain": [
       "<Figure size 432x288 with 1 Axes>"
      ]
     },
     "metadata": {},
     "output_type": "display_data"
    }
   ],
   "source": [
    "## 2 groups \n",
    "sns.set_style(\"ticks\")\n",
    "# sns.set_theme(style=\"ticks\", palette=\"pastel\")\n",
    "\n",
    "sns.stripplot(x=\"Group_2\", y=\"Modularity\", \n",
    "              #color=\"whitesmoke\", \n",
    "              jitter= True,\n",
    "              palette=[\"#2e5d9f\", \"#919649\"],\n",
    "#               palette=[\"#2e5d9f\", \"#919649\", '#fc766a'],\n",
    "              #palette=\"Set2\",\n",
    "#               split=True,\n",
    "              data = modularity_altas['network32'],\n",
    "              size = 10,\n",
    "              edgecolor = 'k',\n",
    "              linewidth = 1.5,\n",
    "              alpha =0.7\n",
    "             )\n",
    "\n",
    "ax = sns.boxplot(x=\"Group_2\", y=\"Modularity\",\n",
    "#             hue=\"Age\",\n",
    "#             capsize=.1,\n",
    "#             estimator= np.mean,\n",
    "#             ci=\"sd\",\n",
    "#             errcolor=\"k\",\n",
    "            #palette='Set2',\n",
    "            #hue=\"Patient_status\", kind=\"bar\",  \n",
    "            palette=[\"#2e5d9f\", \"#919649\"],\n",
    "#             palette=[\"#2e5d9f\", \"#919649\", '#fc766a'],\n",
    "#             palette=\"vlag\",\n",
    "#             whis = 1.5, \n",
    "#             width = 2,\n",
    "            data = modularity_altas['network32'],\n",
    "            \n",
    "#             ylim=(1.0, 5)\n",
    "           )\n",
    "\n",
    "sns.despine(offset=10, trim=True)\n",
    "\n",
    "plt.legend(bbox_to_anchor=(0.81, 1.02), loc = 2, borderaxespad=0.)\n",
    "\n",
    "\n",
    "\n",
    "# When creating the legend, only use the first two elements\n",
    "# to effectively remove the last two.\n",
    "# plt.legend(handles[0:2], labels[0:2], loc= 1, borderaxespad=0.)\n",
    "\n",
    "pairs= [\n",
    "    ((\"Stroke\"),(\"Control\")),\\\n",
    "    ]\n",
    "# test = ttest_ind(permutations=5000)\n",
    "add_stat_annotation(ax = ax, box_pairs = pairs, data =  modularity_altas['network32'],\n",
    "                    test='t-test_ind',\n",
    "#                     perform_stat_test=False, \n",
    "#                     pvalues=[4.489e-02],\n",
    "                    line_offset_to_box = 0.08, line_offset = 0.01, line_height = 0.01, text_offset = 0.08,\n",
    "                    loc='inside',x= \"Group_2\", y= \"Modularity\",verbose=2)\n",
    "\n",
    "\n",
    "plt.savefig('./Results/Visualization/network32_abs_static_2.png', dpi = 300, bbox_inches='tight')\n",
    "\n",
    "# aal :     Stroke v.s. Control t-test independent samples with Bonferroni correction: P_val=2.686e-04 stat=-4.166e+00\n",
    "# network32 :Stroke v.s. Control: t-test independent samples with Bonferroni correction, P_val=3.776e-04 stat=-4.040e+00"
   ]
  },
  {
   "cell_type": "code",
   "execution_count": 2,
   "metadata": {
    "tags": []
   },
   "outputs": [],
   "source": [
    "## 3 groups \n",
    "sns.set_style(\"ticks\")\n",
    "# sns.set_theme(style=\"ticks\", palette=\"pastel\")\n",
    "\n",
    "sns.stripplot(x=\"Group\", y=\"Modularity\", \n",
    "              #color=\"whitesmoke\", \n",
    "              jitter= True,\n",
    "#               palette=[\"#2e5d9f\", \"#919649\"],\n",
    "              palette=[\"#2e5d9f\", \"#919649\", '#fc766a'],\n",
    "              #palette=\"Set2\",\n",
    "#               split=True,\n",
    "              data = modularity_altas['network32'],\n",
    "              size = 10,\n",
    "              edgecolor = 'k',\n",
    "              linewidth = 1.5,\n",
    "              alpha =0.7\n",
    "             )\n",
    "\n",
    "ax3 = sns.boxplot(x=\"Group\", y=\"Modularity\",\n",
    "#             hue=\"Age\",\n",
    "#             capsize=.1,\n",
    "#             estimator= np.mean,\n",
    "#             ci=\"sd\",\n",
    "#             errcolor=\"k\",\n",
    "            #palette='Set2',\n",
    "            #hue=\"Patient_status\", kind=\"bar\",  \n",
    "#             palette=[\"#2e5d9f\", \"#919649\"],\n",
    "            palette=[\"#2e5d9f\", \"#919649\", '#fc766a'],\n",
    "#             palette=\"vlag\",\n",
    "#             whis = 1.5, \n",
    "#             width = 2,\n",
    "            data = modularity_altas['network32'],\n",
    "            \n",
    "#             ylim=(1.0, 5)\n",
    "           )\n",
    "\n",
    "sns.despine(offset=10, trim=True)\n",
    "\n",
    "pairs= [\n",
    "    ((\"Mild\"),(\"Severe\")),\\\n",
    "    ((\"Mild\"),(\"Control\")),\\\n",
    "    ((\"Severe\"),(\"Control\"))\n",
    "    ]\n",
    "# # test = ttest_ind(permutations=5000)\n",
    "add_stat_annotation(ax = ax3, box_pairs = pairs, data =  modularity_altas['network32'],\n",
    "                    test='t-test_ind',\n",
    "#                     perform_stat_test=False, \n",
    "#                     pvalues=[4.489e-02],\n",
    "                    line_offset_to_box = 0.08, line_offset = 0.01, line_height = 0.01, text_offset = 0.08,\n",
    "                    loc='inside',x= \"Group\", y= \"Modularity\",verbose=2)\n",
    "\n",
    "# plt.savefig('./Results/Visualization/aal_abs_static_3.png', dpi = 300, bbox_inches='tight')\n",
    "\n",
    "# network 32\n",
    "# Severe v.s. Control: t-test independent samples with Bonferroni correction, P_val=5.677e-03 stat=-3.359e+00\n",
    "# Mild v.s. Control: t-test independent samples with Bonferroni correction, P_val=8.876e-03 stat=-3.227e+00\n",
    "\n",
    "# power \n",
    "# Mild v.s. Severe: t-test independent samples with Bonferroni correction, P_val=7.644e-01 stat=-1.191e+00\n",
    "# Severe v.s. Control: t-test independent samples with Bonferroni correction, P_val=6.708e-01 stat=1.252e+00\n",
    "# Mild v.s. Control: t-test independent samples with Bonferroni correction, P_val=1.000e+00 stat=-4.337e-01\n",
    "\n",
    "# aal\n",
    "# Mild v.s. Severe: t-test independent samples with Bonferroni correction, P_val=1.000e+00 stat=-5.033e-01\n",
    "# Severe v.s. Control: t-test independent samples with Bonferroni correction, P_val=1.440e-02 stat=-3.136e+00\n",
    "# Mild v.s. Control: t-test independent samples with Bonferroni correction, P_val=7.449e-03 stat=-3.484e+00"
   ]
  },
  {
   "cell_type": "code",
   "execution_count": 21,
   "metadata": {},
   "outputs": [
    {
     "name": "stdout",
     "output_type": "stream",
     "text": [
      "\n",
      "Two sample t-test with equal variance\n",
      "\n",
      "------------------  -----------\n",
      "Mean diff            0.144917\n",
      "t                    2.19595\n",
      "Std Error            0.0659929\n",
      "df                  28\n",
      "P-value (one-tail)   0.018272\n",
      "P-value (two-tail)   0.0365441\n",
      "Lower 95.0%          0.00973675\n",
      "Upper 95.0%          0.280097\n",
      "------------------  -----------\n",
      "\n",
      "Parameter estimates\n",
      "\n",
      "Level      Number     Mean    Std Dev    Std Error    Lower 95.0%    Upper 95.0%\n",
      "-------  --------  -------  ---------  -----------  -------------  -------------\n",
      "Control        15  1.79104   0.189114    0.0488291        1.68631        1.89576\n",
      "Stroke         15  1.64612   0.171935    0.0443935        1.5509         1.74133\n",
      " 2.19595 0.0365441\n"
     ]
    }
   ],
   "source": [
    "## t_test\n",
    "\n",
    "from bioinfokit.analys import stat\n",
    "\n",
    "\n",
    "s1 = stat()\n",
    "s1.ttest(df =  modularity_altas['network32'], xfac = \"Group_2\",res = \"Modularity\",test_type=2)\n",
    "t1 = s1.summary.split('/n')[0].split('\\n')[5].split(' ')[-1]\n",
    "p1 =  s1.summary.split('/n')[0].split('\\n')[9].split(' ')[-1]\n",
    "print(s1.summary,t1,p1)"
   ]
  },
  {
   "cell_type": "code",
   "execution_count": 92,
   "metadata": {},
   "outputs": [
    {
     "name": "stdout",
     "output_type": "stream",
     "text": [
      "      Group  Modularity\n",
      "0      Mild    1.589867\n",
      "1      Mild    1.723120\n",
      "2    Severe    1.620115\n",
      "3    Severe    1.775198\n",
      "4    Severe    1.735266\n",
      "5    Severe    1.374110\n",
      "6      Mild    1.729047\n",
      "7    Severe    1.693235\n",
      "8    Severe    1.298375\n",
      "9      Mild    1.790399\n",
      "10   Severe    1.869584\n",
      "11   Severe    1.876663\n",
      "12     Mild    1.487642\n",
      "13   Severe    1.448030\n",
      "14     Mild    1.700334\n",
      "15  Control    1.539930\n",
      "16  Control    1.853606\n",
      "17  Control    1.680091\n",
      "18  Control    1.863200\n",
      "19  Control    1.685449\n",
      "20  Control    1.698405\n",
      "21  Control    2.061938\n",
      "22  Control    2.095961\n",
      "23  Control    1.531452\n",
      "24  Control    1.852846\n",
      "25  Control    1.740635\n",
      "26  Control    1.511783\n",
      "27  Control    1.816494\n",
      "28  Control    2.056057\n",
      "29  Control    1.856979\n",
      "0.697993 0.0724046 0.165181\n"
     ]
    }
   ],
   "source": [
    "import matplotlib.pyplot as plt\n",
    "import seaborn as sns\n",
    "import itertools\n",
    "import pandas as pd\n",
    "import numpy as np\n",
    "import json\n",
    "import os\n",
    "\n",
    "from matplotlib.colors import ListedColormap, LinearSegmentedColormap\n",
    "from matplotlib import cm\n",
    "from numpy.ma import masked_array\n",
    "from statsmodels.stats.multitest import multipletests\n",
    "from scipy.stats import pearsonr\n",
    "from functools import reduce\n",
    "\n",
    "from bioinfokit.analys import stat\n",
    "# ~~~~~~~~~~~~ define the stat model~~~~~~~~~~~~~~~~~~~\n",
    "import scipy.stats as stats\n",
    "\n",
    "modularity_a =  modularity_altas['network32']\n",
    "print(modularity_a)\n",
    "mild = modularity_a[modularity_a['Group'] == 'Mild']\n",
    "severe = modularity_a[modularity_a['Group'] == 'Severe']\n",
    "control = modularity_a[modularity_a['Group'] == 'Control']\n",
    "\n",
    "mild_severe = pd.concat( (mild,severe),axis = 0)\n",
    "severe_control = pd.concat( (severe,control),axis = 0)\n",
    "mild_control = pd.concat( (mild,control),axis = 0)\n",
    "\n",
    "\n",
    "s1 = stat()\n",
    "s1.ttest(df = mild_severe, xfac = \"Group\",res = \"Modularity\",test_type=2)\n",
    "t1 = s1.summary.split('/n')[0].split('\\n')[5].split(' ')[-1]\n",
    "p1 =  s1.summary.split('/n')[0].split('\\n')[9].split(' ')[-1]\n",
    "\n",
    "s2 = stat()\n",
    "s2.ttest(df = severe_control, xfac = \"Group\",res = \"Modularity\",test_type=2)\n",
    "t2 = s2.summary.split('/n')[0].split('\\n')[5].split(' ')[-1]\n",
    "p2 =  s2.summary.split('/n')[0].split('\\n')[9].split(' ')[-1]\n",
    "\n",
    "s3 = stat()\n",
    "s3.ttest(df = mild_control, xfac = \"Group\",res = \"Modularity\",test_type=2)\n",
    "t3 = s3.summary.split('/n')[0].split('\\n')[5].split(' ')[-1]\n",
    "p3 =  s3.summary.split('/n')[0].split('\\n')[9].split(' ')[-1]\n",
    "\n",
    "print(p1,p2,p3)\n"
   ]
  }
 ],
 "metadata": {
  "kernelspec": {
   "display_name": "Python 3 (ipykernel)",
   "language": "python",
   "name": "python3"
  },
  "language_info": {
   "codemirror_mode": {
    "name": "ipython",
    "version": 3
   },
   "file_extension": ".py",
   "mimetype": "text/x-python",
   "name": "python",
   "nbconvert_exporter": "python",
   "pygments_lexer": "ipython3",
   "version": "3.11.4"
  }
 },
 "nbformat": 4,
 "nbformat_minor": 4
}
